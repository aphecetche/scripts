{
 "cells": [
  {
   "cell_type": "code",
   "execution_count": 23,
   "id": "d94169ac",
   "metadata": {},
   "outputs": [],
   "source": [
    "import csv"
   ]
  },
  {
   "cell_type": "code",
   "execution_count": 24,
   "id": "777ed03b",
   "metadata": {},
   "outputs": [],
   "source": [
    "import numpy as np"
   ]
  },
  {
   "cell_type": "code",
   "execution_count": 28,
   "id": "308134de",
   "metadata": {},
   "outputs": [
    {
     "name": "stdout",
     "output_type": "stream",
     "text": [
      "  % Total    % Received % Xferd  Average Speed   Time    Time     Time  Current\n",
      "                                 Dload  Upload   Total   Spent    Left  Speed\n",
      "100 36111  100 36111    0     0  30996      0  0:00:01  0:00:01 --:--:-- 30996\n"
     ]
    }
   ],
   "source": [
    "!curl https://cernbox.cern.ch/index.php/s/IjqoD2TnwFp0lQj/download > pr-stats.csv"
   ]
  },
  {
   "cell_type": "code",
   "execution_count": 29,
   "id": "ce105a69",
   "metadata": {},
   "outputs": [
    {
     "name": "stdout",
     "output_type": "stream",
     "text": [
      "pr number,lead time in days,author\r\n",
      "6906,2.0950694444444444,dstocco\r\n",
      "6907,0.21430555555555555,rpezzi\r\n",
      "6908,0.7080902777777779,davidrohr\r\n"
     ]
    }
   ],
   "source": [
    "!head -4 pr-stats.csv"
   ]
  },
  {
   "cell_type": "code",
   "execution_count": 26,
   "id": "9f804c9b",
   "metadata": {
    "tags": []
   },
   "outputs": [
    {
     "ename": "KeyError",
     "evalue": "'lead time in days'",
     "output_type": "error",
     "traceback": [
      "\u001b[0;31m---------------------------------------------------------------------------\u001b[0m",
      "\u001b[0;31mKeyError\u001b[0m                                  Traceback (most recent call last)",
      "\u001b[0;32m<ipython-input-26-097e14a04c0c>\u001b[0m in \u001b[0;36m<module>\u001b[0;34m\u001b[0m\n\u001b[1;32m      4\u001b[0m     \u001b[0mr\u001b[0m \u001b[0;34m=\u001b[0m \u001b[0mcsv\u001b[0m\u001b[0;34m.\u001b[0m\u001b[0mDictReader\u001b[0m\u001b[0;34m(\u001b[0m\u001b[0mcvsfile\u001b[0m\u001b[0;34m)\u001b[0m\u001b[0;34m\u001b[0m\u001b[0;34m\u001b[0m\u001b[0m\n\u001b[1;32m      5\u001b[0m     \u001b[0;32mfor\u001b[0m \u001b[0mrow\u001b[0m \u001b[0;32min\u001b[0m \u001b[0mr\u001b[0m\u001b[0;34m:\u001b[0m\u001b[0;34m\u001b[0m\u001b[0;34m\u001b[0m\u001b[0m\n\u001b[0;32m----> 6\u001b[0;31m         \u001b[0mlead_time\u001b[0m\u001b[0;34m=\u001b[0m\u001b[0mfloat\u001b[0m\u001b[0;34m(\u001b[0m\u001b[0mrow\u001b[0m\u001b[0;34m[\u001b[0m\u001b[0;34m\"lead time in days\"\u001b[0m\u001b[0;34m]\u001b[0m\u001b[0;34m)\u001b[0m\u001b[0;34m\u001b[0m\u001b[0;34m\u001b[0m\u001b[0m\n\u001b[0m\u001b[1;32m      7\u001b[0m         \u001b[0mauthors\u001b[0m\u001b[0;34m[\u001b[0m\u001b[0;34m\"all\"\u001b[0m\u001b[0;34m]\u001b[0m\u001b[0;34m=\u001b[0m\u001b[0mnp\u001b[0m\u001b[0;34m.\u001b[0m\u001b[0mappend\u001b[0m\u001b[0;34m(\u001b[0m\u001b[0mauthors\u001b[0m\u001b[0;34m[\u001b[0m\u001b[0;34m\"all\"\u001b[0m\u001b[0;34m]\u001b[0m\u001b[0;34m,\u001b[0m\u001b[0mlead_time\u001b[0m\u001b[0;34m)\u001b[0m\u001b[0;34m\u001b[0m\u001b[0;34m\u001b[0m\u001b[0m\n\u001b[1;32m      8\u001b[0m         \u001b[0mauthor\u001b[0m\u001b[0;34m=\u001b[0m\u001b[0mrow\u001b[0m\u001b[0;34m[\u001b[0m\u001b[0;34m\"author\"\u001b[0m\u001b[0;34m]\u001b[0m\u001b[0;34m\u001b[0m\u001b[0;34m\u001b[0m\u001b[0m\n",
      "\u001b[0;31mKeyError\u001b[0m: 'lead time in days'"
     ]
    }
   ],
   "source": [
    "authors={}\n",
    "authors[\"all\"]=np.array([])\n",
    "with open('pr-stats.csv') as cvsfile:\n",
    "    r = csv.DictReader(cvsfile)\n",
    "    for row in r:\n",
    "        lead_time=float(row[\"lead time in days\"])\n",
    "        authors[\"all\"]=np.append(authors[\"all\"],lead_time)\n",
    "        author=row[\"author\"]\n",
    "        if (not author in authors):\n",
    "          authors[author]=np.array([])\n",
    "        authors[author]=np.append(authors[author],lead_time) "
   ]
  },
  {
   "cell_type": "code",
   "execution_count": 22,
   "id": "26ce874b",
   "metadata": {},
   "outputs": [
    {
     "name": "stdout",
     "output_type": "stream",
     "text": [
      " 1100 PRs for all                  Lead times : max  156.70 mean    4.09 stddev    4.09\n",
      "  122 PRs for davidrohr            Lead times : max    5.74 mean    0.72 stddev    0.72\n",
      "  172 PRs for shahor02             Lead times : max   15.17 mean    0.83 stddev    0.83\n",
      "   30 PRs for aalkin               Lead times : max   12.18 mean    2.82 stddev    2.82\n",
      "   34 PRs for aphecetche           Lead times : max   40.77 mean    5.76 stddev    5.76\n",
      "  139 PRs for ktf                  Lead times : max   65.18 mean    2.40 stddev    2.40\n",
      "   15 PRs for dstocco              Lead times : max   12.68 mean    3.29 stddev    3.29\n",
      "   46 PRs for sawenzel             Lead times : max    3.76 mean    0.80 stddev    0.80\n",
      "   14 PRs for mconcas              Lead times : max   22.61 mean    3.64 stddev    3.64\n"
     ]
    }
   ],
   "source": [
    "def printStat(author):\n",
    "    array=authors[author]\n",
    "    print(\"{:5d} PRs for {:20s} Lead times : max {:7.2f} mean {:7.2f} stddev {:7.2f}\".format(np.size(array),author,np.max(array),np.mean(array),np.mean(array)))\n",
    "printStat(\"all\")\n",
    "printStat(\"davidrohr\")\n",
    "printStat(\"shahor02\")\n",
    "printStat(\"aalkin\")\n",
    "printStat(\"aphecetche\")\n",
    "printStat(\"ktf\")\n",
    "printStat(\"dstocco\")\n",
    "printStat(\"sawenzel\")\n",
    "printStat(\"mconcas\")"
   ]
  },
  {
   "cell_type": "code",
   "execution_count": 19,
   "id": "cca6a4f2",
   "metadata": {},
   "outputs": [],
   "source": [
    "import matplotlib.pyplot as plt\n",
    "delays=authors[\"all\"]"
   ]
  },
  {
   "cell_type": "code",
   "execution_count": 21,
   "id": "2d3937a2",
   "metadata": {},
   "outputs": [
    {
     "data": {
      "image/png": "[encoded data removed]",
      "text/plain": [
       "<Figure size 432x288 with 1 Axes>"
      ]
     },
     "metadata": {
      "needs_background": "light"
     },
     "output_type": "display_data"
    }
   ],
   "source": [
    "x_min=np.min(delays)\n",
    "x_max=np.max(delays)\n",
    "density=True\n",
    "n,bins,patches=plt.hist(x=authors[\"all\"],bins=np.linspace(x_min,x_max),rwidth=1.0,label=\"all\",density=density,histtype='stepfilled')\n",
    "plt.xlabel(\"days between create and merge\");\n",
    "plt.ylabel(\"density\");\n",
    "plt.yscale(\"log\")\n",
    "plt.hist(x=authors[\"aphecetche\"],bins=bins,rwidth=0.85,label=\"aphecetche\",density=density,histtype='step');\n",
    "plt.hist(x=authors[\"ktf\"],bins=bins,rwidth=0.85,label=\"ktf\",density=density,histtype='step');\n",
    "plt.hist(x=authors[\"davidrohr\"],bins=bins,rwidth=0.85,label=\"davidrohr\",density=density,histtype='step');\n",
    "plt.hist(x=authors[\"shahor02\"],bins=bins,rwidth=0.85,label=\"shahor02\",density=density,histtype='step');\n",
    "plt.hist(x=authors[\"dstocco\"],bins=bins,rwidth=0.85,label=\"dstocco\",density=density,histtype='stepfilled');\n",
    "plt.hist(x=authors[\"sawenzel\"],bins=bins,rwidth=0.85,label=\"sawenzel\",density=density,histtype='stepfilled');\n",
    "\n",
    "plt.legend();"
   ]
  },
  {
   "cell_type": "code",
   "execution_count": null,
   "id": "730979ea",
   "metadata": {},
   "outputs": [],
   "source": []
  }
 ],
 "metadata": {
  "interpreter": {
   "hash": "195a18e71a68af4330a74106e4dc6f48636226467ccee4f2de6e6d170c0f4e13"
  },
  "kernelspec": {
   "display_name": "Python 3",
   "language": "python",
   "name": "python3"
  },
  "language_info": {
   "codemirror_mode": {
    "name": "ipython",
    "version": 3
   },
   "file_extension": ".py",
   "mimetype": "text/x-python",
   "name": "python",
   "nbconvert_exporter": "python",
   "pygments_lexer": "ipython3",
   "version": "3.9.2"
  }
 },
 "nbformat": 4,
 "nbformat_minor": 5
}
